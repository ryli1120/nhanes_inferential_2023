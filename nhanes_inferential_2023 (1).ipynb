{
  "nbformat": 4,
  "nbformat_minor": 0,
  "metadata": {
    "colab": {
      "provenance": []
    },
    "kernelspec": {
      "name": "python3",
      "display_name": "Python 3"
    },
    "language_info": {
      "name": "python"
    }
  },
  "cells": [
    {
      "cell_type": "code",
      "execution_count": 37,
      "metadata": {
        "id": "HhoVunqJzdct"
      },
      "outputs": [],
      "source": [
        "import pandas as pd\n",
        "import numpy as np\n",
        "import scipy.stats as stats\n"
      ]
    },
    {
      "cell_type": "code",
      "source": [
        "demo = pd.read_sas('https://wwwn.cdc.gov/Nchs/Nhanes/2021-2022/DEMO_L.XPT', format='xport')\n",
        "bp = pd.read_sas('https://wwwn.cdc.gov/Nchs/Nhanes/2021-2022/BPXO_L.XPT', format='xport')\n",
        "body = pd.read_sas('https://wwwn.cdc.gov/Nchs/Nhanes/2021-2022/BMX_L.XPT', format='xport')\n",
        "chol_total = pd.read_sas('https://wwwn.cdc.gov/Nchs/Nhanes/2021-2022/TCHOL_L.XPT', format='xport')\n",
        "glycohemo = pd.read_sas('https://wwwn.cdc.gov/Nchs/Nhanes/2021-2022/GHB_L.XPT', format='xport')\n",
        "crp = pd.read_sas('https://wwwn.cdc.gov/Nchs/Nhanes/2021-2022/HSCRP_L.XPT', format='xport')\n",
        "dm = pd.read_sas('https://wwwn.cdc.gov/Nchs/Nhanes/2021-2022/DIQ_L.XPT', format='xport')"
      ],
      "metadata": {
        "id": "OIAMVyoqMq7x"
      },
      "execution_count": 56,
      "outputs": []
    },
    {
      "cell_type": "code",
      "source": [
        "#Question 1: \"Is there an association between marital status (married or not married) and education level (bachelor’s degree or higher vs. less than a bachelor’s degree)?\"\n",
        "marital_status = demo.DMDMARTZ\n",
        "educ_status = demo.DMDEDUC2"
      ],
      "metadata": {
        "id": "SCGlRqAuOjvZ"
      },
      "execution_count": 58,
      "outputs": []
    },
    {
      "cell_type": "code",
      "source": [
        "#Data Cleaning\n",
        "marital_status = marital_status.replace([7777, 9999, np.nan], np.nan)  # Remove placeholder values in marital status\n",
        "marital_status = educ_status.replace([7777, 9999, np.nan], np.nan)  # Remove placeholder values in education level\n",
        "\n",
        "#Remove Null values\n",
        "ms_null_count = pd.isna(marital_status).value_counts()\n",
        "educ_null_count = pd.isna(educ_status).value_counts()\n",
        "\n",
        "print(\"Marital Status Null Count:\\n\", ms_null_count)\n",
        "print(\"Education Level Null Count:\\n\", educ_null_count)\n",
        "\n",
        "demo_nonull = demo.dropna(subset=['DMDMARTZ', 'DMDEDUC2'])\n",
        "demo_nonull[['DMDMARTZ','DMDEDUC2']]\n",
        "\n",
        "print(\"\\nCleaned Data:\")\n",
        "print(demo_nonull[['DMDMARTZ', 'DMDEDUC2']].head())"
      ],
      "metadata": {
        "colab": {
          "base_uri": "https://localhost:8080/"
        },
        "id": "N9CRB7euRjcG",
        "outputId": "8c89a4e7-12bd-485d-a150-02b20deaa8ab"
      },
      "execution_count": 40,
      "outputs": [
        {
          "output_type": "stream",
          "name": "stdout",
          "text": [
            "Marital Status Null Count:\n",
            " DMDEDUC2\n",
            "False    7794\n",
            "True     4139\n",
            "Name: count, dtype: int64\n",
            "Education Level Null Count:\n",
            " DMDEDUC2\n",
            "False    7794\n",
            "True     4139\n",
            "Name: count, dtype: int64\n",
            "\n",
            "Cleaned Data:\n",
            "   DMDMARTZ  DMDEDUC2\n",
            "0       1.0       5.0\n",
            "1       1.0       5.0\n",
            "2       1.0       3.0\n",
            "6       3.0       2.0\n",
            "7       1.0       3.0\n"
          ]
        }
      ]
    },
    {
      "cell_type": "code",
      "source": [
        "#Recode Marital Status and Education Level variable\n",
        "marital_status = marital_status.map({1: 'Married', 2: 'Not Married'}).dropna()\n",
        "educ_status = educ_status.map({1: 'College', 2: 'No College'}).dropna()\n",
        "\n"
      ],
      "metadata": {
        "id": "kF9WQJ8DUOBL"
      },
      "execution_count": 41,
      "outputs": []
    },
    {
      "cell_type": "code",
      "source": [
        "#Frequency Counts\n",
        "print(\"Marital Status Distribution:\\n\", marital_status.value_counts())\n",
        "print(\"Education Level Distribution:\\n\", educ_status.value_counts())"
      ],
      "metadata": {
        "colab": {
          "base_uri": "https://localhost:8080/"
        },
        "id": "E3PRTugfXcfp",
        "outputId": "1893ee8d-917f-42a2-8d8d-bc2036d52c8d"
      },
      "execution_count": 42,
      "outputs": [
        {
          "output_type": "stream",
          "name": "stdout",
          "text": [
            "Marital Status Distribution:\n",
            " DMDEDUC2\n",
            "Not Married    666\n",
            "Married        373\n",
            "Name: count, dtype: int64\n",
            "Education Level Distribution:\n",
            " DMDEDUC2\n",
            "No College    666\n",
            "College       373\n",
            "Name: count, dtype: int64\n"
          ]
        }
      ]
    },
    {
      "cell_type": "code",
      "source": [
        "#Contingency Table\n",
        "contingency_table = pd.crosstab(marital_status, educ_status)\n",
        "print(\"\\nContingency Table:\\n\", contingency_table)"
      ],
      "metadata": {
        "colab": {
          "base_uri": "https://localhost:8080/"
        },
        "id": "JdvZcFdKXima",
        "outputId": "f92deeab-f672-4556-9193-d3e862e1b7d8"
      },
      "execution_count": 43,
      "outputs": [
        {
          "output_type": "stream",
          "name": "stdout",
          "text": [
            "\n",
            "Contingency Table:\n",
            " DMDEDUC2     College  No College\n",
            "DMDEDUC2                        \n",
            "Married          373           0\n",
            "Not Married        0         666\n"
          ]
        }
      ]
    },
    {
      "cell_type": "code",
      "source": [
        "chi2_stat, p_val, dof, expected = stats.chi2_contingency(contingency_table)"
      ],
      "metadata": {
        "id": "3zM21IRgXp_k"
      },
      "execution_count": 44,
      "outputs": []
    },
    {
      "cell_type": "code",
      "source": [
        "#Statistics\n",
        "print(\"\\nChi-Square Statistic:\", chi2_stat)\n",
        "print(\"p-value:\", p_val)\n",
        "print(\"Degrees of Freedom:\", dof)\n",
        "print(\"Expected Frequencies Table:\\n\", expected)"
      ],
      "metadata": {
        "colab": {
          "base_uri": "https://localhost:8080/"
        },
        "id": "UuDTFT7cXvFh",
        "outputId": "9804b238-01e8-45f8-886d-edf1515ea712"
      },
      "execution_count": 45,
      "outputs": [
        {
          "output_type": "stream",
          "name": "stdout",
          "text": [
            "\n",
            "Chi-Square Statistic: 1034.6589609655696\n",
            "p-value: 5.257557282321254e-227\n",
            "Degrees of Freedom: 1\n",
            "Expected Frequencies Table:\n",
            " [[133.906641 239.093359]\n",
            " [239.093359 426.906641]]\n"
          ]
        }
      ]
    },
    {
      "cell_type": "code",
      "source": [
        "#Results\n",
        "if p_val < 0.05:\n",
        "    print(\"\\nThere is no statistically significant association between marital status and education level.\")\n",
        "else:\n",
        "    print(\"\\nThere is a statistically significant association between marital status and education level.\")"
      ],
      "metadata": {
        "colab": {
          "base_uri": "https://localhost:8080/"
        },
        "id": "nbF4utS0X3uK",
        "outputId": "b46ac851-21ee-486e-f831-c06e351a52bf"
      },
      "execution_count": 46,
      "outputs": [
        {
          "output_type": "stream",
          "name": "stdout",
          "text": [
            "\n",
            "There is no statistically significant association between marital status and education level.\n"
          ]
        }
      ]
    },
    {
      "cell_type": "code",
      "source": [
        "#Question 2: \"Is there a difference in the mean sedentary behavior time between those who are married and those who are not married?\"\n",
        "\n",
        "sedentary_behavior = demo. PAD680\n",
        "\n",
        "#Data Cleaning\n",
        "sedentary_behavior = sedentary_behavior.replace([7777, 9999, np.nan], np.nan)  # Remove placeholder values\n"
      ],
      "metadata": {
        "colab": {
          "base_uri": "https://localhost:8080/",
          "height": 332
        },
        "id": "EY6-Z8pOZM05",
        "outputId": "b44edb03-2913-4407-e5ba-245cf3e1ed22"
      },
      "execution_count": 55,
      "outputs": [
        {
          "output_type": "error",
          "ename": "AttributeError",
          "evalue": "'DataFrame' object has no attribute 'PAD680'",
          "traceback": [
            "\u001b[0;31m---------------------------------------------------------------------------\u001b[0m",
            "\u001b[0;31mAttributeError\u001b[0m                            Traceback (most recent call last)",
            "\u001b[0;32m<ipython-input-55-b6245813cec4>\u001b[0m in \u001b[0;36m<cell line: 3>\u001b[0;34m()\u001b[0m\n\u001b[1;32m      1\u001b[0m \u001b[0;31m#Question 2: \"Is there a difference in the mean sedentary behavior time between those who are married and those who are not married?\"\u001b[0m\u001b[0;34m\u001b[0m\u001b[0;34m\u001b[0m\u001b[0m\n\u001b[1;32m      2\u001b[0m \u001b[0;34m\u001b[0m\u001b[0m\n\u001b[0;32m----> 3\u001b[0;31m \u001b[0msedentary_behavior\u001b[0m \u001b[0;34m=\u001b[0m \u001b[0mdemo\u001b[0m\u001b[0;34m.\u001b[0m\u001b[0mPAD680\u001b[0m\u001b[0;34m\u001b[0m\u001b[0;34m\u001b[0m\u001b[0m\n\u001b[0m\u001b[1;32m      4\u001b[0m \u001b[0;34m\u001b[0m\u001b[0m\n\u001b[1;32m      5\u001b[0m \u001b[0;31m#Data Cleaning\u001b[0m\u001b[0;34m\u001b[0m\u001b[0;34m\u001b[0m\u001b[0m\n",
            "\u001b[0;32m/usr/local/lib/python3.10/dist-packages/pandas/core/generic.py\u001b[0m in \u001b[0;36m__getattr__\u001b[0;34m(self, name)\u001b[0m\n\u001b[1;32m   6297\u001b[0m         ):\n\u001b[1;32m   6298\u001b[0m             \u001b[0;32mreturn\u001b[0m \u001b[0mself\u001b[0m\u001b[0;34m[\u001b[0m\u001b[0mname\u001b[0m\u001b[0;34m]\u001b[0m\u001b[0;34m\u001b[0m\u001b[0;34m\u001b[0m\u001b[0m\n\u001b[0;32m-> 6299\u001b[0;31m         \u001b[0;32mreturn\u001b[0m \u001b[0mobject\u001b[0m\u001b[0;34m.\u001b[0m\u001b[0m__getattribute__\u001b[0m\u001b[0;34m(\u001b[0m\u001b[0mself\u001b[0m\u001b[0;34m,\u001b[0m \u001b[0mname\u001b[0m\u001b[0;34m)\u001b[0m\u001b[0;34m\u001b[0m\u001b[0;34m\u001b[0m\u001b[0m\n\u001b[0m\u001b[1;32m   6300\u001b[0m \u001b[0;34m\u001b[0m\u001b[0m\n\u001b[1;32m   6301\u001b[0m     \u001b[0;34m@\u001b[0m\u001b[0mfinal\u001b[0m\u001b[0;34m\u001b[0m\u001b[0;34m\u001b[0m\u001b[0m\n",
            "\u001b[0;31mAttributeError\u001b[0m: 'DataFrame' object has no attribute 'PAD680'"
          ]
        }
      ]
    },
    {
      "cell_type": "code",
      "source": [
        "#Recode Marital Status\n",
        "demo['marital_status'] = demo['DMDMARTZ'].map({1: 'Married', 2: 'Not Married'}).dropna()\n",
        "demo_cleaned = demo.dropna(subset=['marital_status', 'PAD680'])\n",
        "\n",
        "\n"
      ],
      "metadata": {
        "colab": {
          "base_uri": "https://localhost:8080/",
          "height": 332
        },
        "id": "Uh1D4y0idNWF",
        "outputId": "de8ee578-8889-4f59-8339-facc1d15e90a"
      },
      "execution_count": 54,
      "outputs": [
        {
          "output_type": "error",
          "ename": "KeyError",
          "evalue": "['PAD680']",
          "traceback": [
            "\u001b[0;31m---------------------------------------------------------------------------\u001b[0m",
            "\u001b[0;31mKeyError\u001b[0m                                  Traceback (most recent call last)",
            "\u001b[0;32m<ipython-input-54-6afd517b726b>\u001b[0m in \u001b[0;36m<cell line: 3>\u001b[0;34m()\u001b[0m\n\u001b[1;32m      1\u001b[0m \u001b[0;31m#Recode Marital Status\u001b[0m\u001b[0;34m\u001b[0m\u001b[0;34m\u001b[0m\u001b[0m\n\u001b[1;32m      2\u001b[0m \u001b[0mdemo\u001b[0m\u001b[0;34m[\u001b[0m\u001b[0;34m'marital_status'\u001b[0m\u001b[0;34m]\u001b[0m \u001b[0;34m=\u001b[0m \u001b[0mdemo\u001b[0m\u001b[0;34m[\u001b[0m\u001b[0;34m'DMDMARTZ'\u001b[0m\u001b[0;34m]\u001b[0m\u001b[0;34m.\u001b[0m\u001b[0mmap\u001b[0m\u001b[0;34m(\u001b[0m\u001b[0;34m{\u001b[0m\u001b[0;36m1\u001b[0m\u001b[0;34m:\u001b[0m \u001b[0;34m'Married'\u001b[0m\u001b[0;34m,\u001b[0m \u001b[0;36m2\u001b[0m\u001b[0;34m:\u001b[0m \u001b[0;34m'Not Married'\u001b[0m\u001b[0;34m}\u001b[0m\u001b[0;34m)\u001b[0m\u001b[0;34m.\u001b[0m\u001b[0mdropna\u001b[0m\u001b[0;34m(\u001b[0m\u001b[0;34m)\u001b[0m\u001b[0;34m\u001b[0m\u001b[0;34m\u001b[0m\u001b[0m\n\u001b[0;32m----> 3\u001b[0;31m \u001b[0mdemo_cleaned\u001b[0m \u001b[0;34m=\u001b[0m \u001b[0mdemo\u001b[0m\u001b[0;34m.\u001b[0m\u001b[0mdropna\u001b[0m\u001b[0;34m(\u001b[0m\u001b[0msubset\u001b[0m\u001b[0;34m=\u001b[0m\u001b[0;34m[\u001b[0m\u001b[0;34m'marital_status'\u001b[0m\u001b[0;34m,\u001b[0m \u001b[0;34m'PAD680'\u001b[0m\u001b[0;34m]\u001b[0m\u001b[0;34m)\u001b[0m\u001b[0;34m\u001b[0m\u001b[0;34m\u001b[0m\u001b[0m\n\u001b[0m\u001b[1;32m      4\u001b[0m \u001b[0;34m\u001b[0m\u001b[0m\n\u001b[1;32m      5\u001b[0m \u001b[0;34m\u001b[0m\u001b[0m\n",
            "\u001b[0;32m/usr/local/lib/python3.10/dist-packages/pandas/core/frame.py\u001b[0m in \u001b[0;36mdropna\u001b[0;34m(self, axis, how, thresh, subset, inplace, ignore_index)\u001b[0m\n\u001b[1;32m   6668\u001b[0m             \u001b[0mcheck\u001b[0m \u001b[0;34m=\u001b[0m \u001b[0mindices\u001b[0m \u001b[0;34m==\u001b[0m \u001b[0;34m-\u001b[0m\u001b[0;36m1\u001b[0m\u001b[0;34m\u001b[0m\u001b[0;34m\u001b[0m\u001b[0m\n\u001b[1;32m   6669\u001b[0m             \u001b[0;32mif\u001b[0m \u001b[0mcheck\u001b[0m\u001b[0;34m.\u001b[0m\u001b[0many\u001b[0m\u001b[0;34m(\u001b[0m\u001b[0;34m)\u001b[0m\u001b[0;34m:\u001b[0m\u001b[0;34m\u001b[0m\u001b[0;34m\u001b[0m\u001b[0m\n\u001b[0;32m-> 6670\u001b[0;31m                 \u001b[0;32mraise\u001b[0m \u001b[0mKeyError\u001b[0m\u001b[0;34m(\u001b[0m\u001b[0mnp\u001b[0m\u001b[0;34m.\u001b[0m\u001b[0marray\u001b[0m\u001b[0;34m(\u001b[0m\u001b[0msubset\u001b[0m\u001b[0;34m)\u001b[0m\u001b[0;34m[\u001b[0m\u001b[0mcheck\u001b[0m\u001b[0;34m]\u001b[0m\u001b[0;34m.\u001b[0m\u001b[0mtolist\u001b[0m\u001b[0;34m(\u001b[0m\u001b[0;34m)\u001b[0m\u001b[0;34m)\u001b[0m\u001b[0;34m\u001b[0m\u001b[0;34m\u001b[0m\u001b[0m\n\u001b[0m\u001b[1;32m   6671\u001b[0m             \u001b[0magg_obj\u001b[0m \u001b[0;34m=\u001b[0m \u001b[0mself\u001b[0m\u001b[0;34m.\u001b[0m\u001b[0mtake\u001b[0m\u001b[0;34m(\u001b[0m\u001b[0mindices\u001b[0m\u001b[0;34m,\u001b[0m \u001b[0maxis\u001b[0m\u001b[0;34m=\u001b[0m\u001b[0magg_axis\u001b[0m\u001b[0;34m)\u001b[0m\u001b[0;34m\u001b[0m\u001b[0;34m\u001b[0m\u001b[0m\n\u001b[1;32m   6672\u001b[0m \u001b[0;34m\u001b[0m\u001b[0m\n",
            "\u001b[0;31mKeyError\u001b[0m: ['PAD680']"
          ]
        }
      ]
    },
    {
      "cell_type": "code",
      "source": [
        "#Checks distirbution of sedentary behvaior time for each marital group\n",
        "married_data = demo_cleaned[demo_cleaned['marital_status'] == 'Married']['PAD680']\n",
        "not_married_data = demo_cleaned[demo_cleaned['marital_status'] == 'Not Married']['PAD680']"
      ],
      "metadata": {
        "colab": {
          "base_uri": "https://localhost:8080/",
          "height": 176
        },
        "id": "RzN8hAU4dkiB",
        "outputId": "b2ad9862-8b6c-4d6b-a82c-7a1fdb48a605"
      },
      "execution_count": 53,
      "outputs": [
        {
          "output_type": "error",
          "ename": "NameError",
          "evalue": "name 'demo_cleaned' is not defined",
          "traceback": [
            "\u001b[0;31m---------------------------------------------------------------------------\u001b[0m",
            "\u001b[0;31mNameError\u001b[0m                                 Traceback (most recent call last)",
            "\u001b[0;32m<ipython-input-53-6a6bd1a5f6f4>\u001b[0m in \u001b[0;36m<cell line: 2>\u001b[0;34m()\u001b[0m\n\u001b[1;32m      1\u001b[0m \u001b[0;31m#Checks distirbution of sedentary behvaior time for each marital group\u001b[0m\u001b[0;34m\u001b[0m\u001b[0;34m\u001b[0m\u001b[0m\n\u001b[0;32m----> 2\u001b[0;31m \u001b[0mmarried_data\u001b[0m \u001b[0;34m=\u001b[0m \u001b[0mdemo_cleaned\u001b[0m\u001b[0;34m[\u001b[0m\u001b[0mdemo_cleaned\u001b[0m\u001b[0;34m[\u001b[0m\u001b[0;34m'marital_status'\u001b[0m\u001b[0;34m]\u001b[0m \u001b[0;34m==\u001b[0m \u001b[0;34m'Married'\u001b[0m\u001b[0;34m]\u001b[0m\u001b[0;34m[\u001b[0m\u001b[0;34m'PAD680'\u001b[0m\u001b[0;34m]\u001b[0m\u001b[0;34m\u001b[0m\u001b[0;34m\u001b[0m\u001b[0m\n\u001b[0m\u001b[1;32m      3\u001b[0m \u001b[0mnot_married_data\u001b[0m \u001b[0;34m=\u001b[0m \u001b[0mdemo_cleaned\u001b[0m\u001b[0;34m[\u001b[0m\u001b[0mdemo_cleaned\u001b[0m\u001b[0;34m[\u001b[0m\u001b[0;34m'marital_status'\u001b[0m\u001b[0;34m]\u001b[0m \u001b[0;34m==\u001b[0m \u001b[0;34m'Not Married'\u001b[0m\u001b[0;34m]\u001b[0m\u001b[0;34m[\u001b[0m\u001b[0;34m'PAD680'\u001b[0m\u001b[0;34m]\u001b[0m\u001b[0;34m\u001b[0m\u001b[0;34m\u001b[0m\u001b[0m\n",
            "\u001b[0;31mNameError\u001b[0m: name 'demo_cleaned' is not defined"
          ]
        }
      ]
    },
    {
      "cell_type": "code",
      "source": [
        "#Statistics\n",
        "t_stat, p_val = stats.ttest_ind(married_data, not_married_data)\n",
        "print(f\"\\nT-statistic for Sedentary Behavior Comparison: {t_stat}\")\n",
        "print(f\"P-value for Sedentary Behavior Comparison: {p_val}\")\n",
        "\n"
      ],
      "metadata": {
        "colab": {
          "base_uri": "https://localhost:8080/",
          "height": 211
        },
        "id": "7eHuhnbydrvw",
        "outputId": "288db38b-6a82-45ba-e066-adb5bc55e313"
      },
      "execution_count": 52,
      "outputs": [
        {
          "output_type": "error",
          "ename": "NameError",
          "evalue": "name 'married_data' is not defined",
          "traceback": [
            "\u001b[0;31m---------------------------------------------------------------------------\u001b[0m",
            "\u001b[0;31mNameError\u001b[0m                                 Traceback (most recent call last)",
            "\u001b[0;32m<ipython-input-52-59ec7f7aed48>\u001b[0m in \u001b[0;36m<cell line: 2>\u001b[0;34m()\u001b[0m\n\u001b[1;32m      1\u001b[0m \u001b[0;31m#Statistics\u001b[0m\u001b[0;34m\u001b[0m\u001b[0;34m\u001b[0m\u001b[0m\n\u001b[0;32m----> 2\u001b[0;31m \u001b[0mt_stat\u001b[0m\u001b[0;34m,\u001b[0m \u001b[0mp_val\u001b[0m \u001b[0;34m=\u001b[0m \u001b[0mstats\u001b[0m\u001b[0;34m.\u001b[0m\u001b[0mttest_ind\u001b[0m\u001b[0;34m(\u001b[0m\u001b[0mmarried_data\u001b[0m\u001b[0;34m,\u001b[0m \u001b[0mnot_married_data\u001b[0m\u001b[0;34m)\u001b[0m\u001b[0;34m\u001b[0m\u001b[0;34m\u001b[0m\u001b[0m\n\u001b[0m\u001b[1;32m      3\u001b[0m \u001b[0mprint\u001b[0m\u001b[0;34m(\u001b[0m\u001b[0;34mf\"\\nT-statistic for Sedentary Behavior Comparison: {t_stat}\"\u001b[0m\u001b[0;34m)\u001b[0m\u001b[0;34m\u001b[0m\u001b[0;34m\u001b[0m\u001b[0m\n\u001b[1;32m      4\u001b[0m \u001b[0mprint\u001b[0m\u001b[0;34m(\u001b[0m\u001b[0;34mf\"P-value for Sedentary Behavior Comparison: {p_val}\"\u001b[0m\u001b[0;34m)\u001b[0m\u001b[0;34m\u001b[0m\u001b[0;34m\u001b[0m\u001b[0m\n\u001b[1;32m      5\u001b[0m \u001b[0;34m\u001b[0m\u001b[0m\n",
            "\u001b[0;31mNameError\u001b[0m: name 'married_data' is not defined"
          ]
        }
      ]
    },
    {
      "cell_type": "code",
      "source": [
        "#Results\n",
        "alpha = 0.05\n",
        "if p_val < alpha:\n",
        "    print(\"\\nResult: Significant difference in sedentary behavior time by marital status.\")\n",
        "else:\n",
        "    print(\"\\nResult: No significant difference in sedentary behavior time by marital status.\")"
      ],
      "metadata": {
        "colab": {
          "base_uri": "https://localhost:8080/"
        },
        "id": "fJZX1ZgCdxPu",
        "outputId": "36ad36b8-69e2-4b4b-aebb-78bbc8ac6cba"
      },
      "execution_count": 51,
      "outputs": [
        {
          "output_type": "stream",
          "name": "stdout",
          "text": [
            "\n",
            "Result: Significant difference in sedentary behavior time by marital status.\n"
          ]
        }
      ]
    }
  ]
}